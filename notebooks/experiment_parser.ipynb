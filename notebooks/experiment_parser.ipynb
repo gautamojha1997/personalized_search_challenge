{
 "metadata": {
  "name": ""
 },
 "nbformat": 3,
 "nbformat_minor": 0,
 "worksheets": [
  {
   "cells": [
    {
     "cell_type": "code",
     "collapsed": false,
     "input": [
      "# Just playing around with the parser that was written by a Kaggler.\n",
      "\n",
      "import sys\n",
      "sys.path.insert(0, \"../script/\") # for importing functions\n",
      "import parser\n",
      "import user_parser"
     ],
     "language": "python",
     "metadata": {},
     "outputs": [],
     "prompt_number": 1
    },
    {
     "cell_type": "code",
     "collapsed": false,
     "input": [
      "f = open('../data/train', 'rb') #assuming train is located in data/\n",
      "sp = user_parser.parse_users(f)\n",
      "users = [sp.next() for i in range(10)]"
     ],
     "language": "python",
     "metadata": {},
     "outputs": [],
     "prompt_number": 2
    },
    {
     "cell_type": "code",
     "collapsed": false,
     "input": [
      "users[1]['UserID']\n",
      "users[1]['Sessions'][0]['Queries'][1]"
     ],
     "language": "python",
     "metadata": {},
     "outputs": [
      {
       "metadata": {},
       "output_type": "pyout",
       "prompt_number": 3,
       "text": [
        "{'Clicks': [{'SERPID': 1, 'TimePassed': 162, 'URLID': 35513272}],\n",
        " 'ListOfTerms': [2365113, 2856206, 2491775, 4219157, 2383044],\n",
        " 'QueryID': 5239405,\n",
        " 'SERPID': 1,\n",
        " 'TimePassed': 76,\n",
        " 'URL_DOMAIN': [(16457319, 1712204),\n",
        "  (35513272, 3344594),\n",
        "  (19587095, 2024884),\n",
        "  (54638321, 4409573),\n",
        "  (70294280, 5173294),\n",
        "  (29007584, 2844548),\n",
        "  (65574293, 4975723),\n",
        "  (60082408, 4671429),\n",
        "  (36666362, 3411741),\n",
        "  (33566096, 3248439)]}"
       ]
      }
     ],
     "prompt_number": 3
    }
   ],
   "metadata": {}
  }
 ]
}